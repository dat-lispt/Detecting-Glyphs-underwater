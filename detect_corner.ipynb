{
 "cells": [
  {
   "cell_type": "code",
   "execution_count": 1,
   "metadata": {},
   "outputs": [
    {
     "ename": "error",
     "evalue": "OpenCV(4.10.0) D:\\a\\opencv-python\\opencv-python\\opencv\\modules\\imgproc\\src\\featureselect.cpp:389: error: (-215:Assertion failed) qualityLevel > 0 && minDistance >= 0 && maxCorners >= 0 in function 'cv::goodFeaturesToTrack'\n",
     "output_type": "error",
     "traceback": [
      "\u001b[1;31m---------------------------------------------------------------------------\u001b[0m",
      "\u001b[1;31merror\u001b[0m                                     Traceback (most recent call last)",
      "Cell \u001b[1;32mIn[1], line 46\u001b[0m\n\u001b[0;32m     42\u001b[0m  canny \u001b[38;5;241m=\u001b[39m cv\u001b[38;5;241m.\u001b[39mCanny(blur,\u001b[38;5;241m150\u001b[39m,\u001b[38;5;241m255\u001b[39m)\n\u001b[0;32m     44\u001b[0m  \u001b[38;5;66;03m# set= np.concatenate((bw,canny),axis=0)\u001b[39;00m\n\u001b[1;32m---> 46\u001b[0m  detect_corner \u001b[38;5;241m=\u001b[39m \u001b[43mcv\u001b[49m\u001b[38;5;241;43m.\u001b[39;49m\u001b[43mgoodFeaturesToTrack\u001b[49m\u001b[43m(\u001b[49m\u001b[43mcanny\u001b[49m\u001b[43m,\u001b[49m\u001b[43m \u001b[49m\u001b[38;5;241;43m20\u001b[39;49m\u001b[43m,\u001b[49m\u001b[43m \u001b[49m\u001b[43msensitivity\u001b[49m\u001b[43m,\u001b[49m\u001b[43m \u001b[49m\u001b[43mrecom_distance\u001b[49m\u001b[43m)\u001b[49m\n\u001b[0;32m     47\u001b[0m \u001b[38;5;66;03m# cv.imshow(\"video\",frame)\u001b[39;00m\n\u001b[0;32m     48\u001b[0m  \u001b[38;5;28;01mif\u001b[39;00m detect_corner \u001b[38;5;129;01mis\u001b[39;00m \u001b[38;5;129;01mnot\u001b[39;00m \u001b[38;5;28;01mNone\u001b[39;00m:\n",
      "\u001b[1;31merror\u001b[0m: OpenCV(4.10.0) D:\\a\\opencv-python\\opencv-python\\opencv\\modules\\imgproc\\src\\featureselect.cpp:389: error: (-215:Assertion failed) qualityLevel > 0 && minDistance >= 0 && maxCorners >= 0 in function 'cv::goodFeaturesToTrack'\n"
     ]
    },
    {
     "ename": "",
     "evalue": "",
     "output_type": "error",
     "traceback": [
      "\u001b[1;31mThe Kernel crashed while executing code in the current cell or a previous cell. \n",
      "\u001b[1;31mPlease review the code in the cell(s) to identify a possible cause of the failure. \n",
      "\u001b[1;31mClick <a href='https://aka.ms/vscodeJupyterKernelCrash'>here</a> for more info. \n",
      "\u001b[1;31mView Jupyter <a href='command:jupyter.viewOutput'>log</a> for further details."
     ]
    }
   ],
   "source": [
    "import cv2 as cv\n",
    "from pathlib import Path\n",
    "import sys\n",
    "import numpy as np\n",
    "from matplotlib import pyplot as plt\n",
    "# import os\n",
    "\n",
    "# def function(alpha):\n",
    "#     new_canny = cv.Canny(blur,alpha,255)\n",
    "\n",
    "#     cv.imshow('slider',new_canny)\n",
    "\n",
    "def corner_slider(details):\n",
    "    # raw_copy = raw.copy()\n",
    "    sensitivity = details / 10000\n",
    "    # cv.imshow(\"corner\",raw_copy)\n",
    "\n",
    "sensitivity = 0\n",
    "max_slider = 100\n",
    "recom_distance = 21\n",
    "title_window = \"Corner detect Adjustment\"\n",
    "\n",
    "# os.chdir('D:\\Vscode_github\\Detecting-Glyphs-underwater-1')\n",
    "\n",
    "filename = \"find_corner.mp4\"\n",
    "cap = cv.VideoCapture(0)\n",
    "raw = cv.VideoCapture(filename)\n",
    "\n",
    "cv.namedWindow(title_window)\n",
    "trackbar_name = 'Details x %d' % max_slider\n",
    "cv.createTrackbar(trackbar_name, title_window, 0, max_slider, corner_slider)\n",
    "\n",
    "while(True):\n",
    "    ret, frame = raw.read()    \n",
    "\n",
    "    if(ret == False ):\n",
    "        print(\"No video detected\")\n",
    "        break\n",
    "\n",
    "    blur = cv.GaussianBlur(frame,(7,7),0)\n",
    "\n",
    "    canny = cv.Canny(blur,150,255)\n",
    "\n",
    "    # set= np.concatenate((bw,canny),axis=0)\n",
    "\n",
    "    detect_corner = cv.goodFeaturesToTrack(canny, 20, sensitivity, recom_distance)\n",
    "   # cv.imshow(\"video\",frame)\n",
    "    if detect_corner is not None:\n",
    "        detect_corner = np.int_(detect_corner)\n",
    "        for corners in detect_corner:\n",
    "            x,y = corners.ravel()\n",
    "            cv.circle(raw, (x,y), 4, 0, -1)\n",
    "\n",
    "    if cv.waitKey(1) & 0xFF == ord('p'):\n",
    "        break\n",
    "        \n",
    "if(False):\n",
    "    gradient = cv.Sobel(blur,cv.CV_64F,1,1,ksize= 3)\n",
    "\n",
    "    thresh = cv.threshold(gradient,100,255,cv.THRESH_BINARY)\n",
    "\n",
    "    cv.imshow(\"thresh\", thresh)\n",
    "\n",
    "# erosion_kern = np.ones((5,5), np.uint8)\n",
    "# erode = cv.erode(bw, erosion_kern, iterations= 1)\n",
    "# erode_blur = cv.erode(blur, erosion_kern, iterations= 1)\n",
    "\n",
    "# dilate_kern = np.ones((5,5),np.uint8)\n",
    "# dilation = cv.dilate(bw, dilate_kern, iterations= 1)\n",
    "# dilation_blur = cv.dilate(blur, dilate_kern, iterations= 1)\n",
    "\n",
    "# vert1 = np.concatenate((dilation,erode), axis=0)\n",
    "\n",
    "# cv.waitKey(8000)\n",
    "c"
   ]
  }
 ],
 "metadata": {
  "kernelspec": {
   "display_name": "Python 3",
   "language": "python",
   "name": "python3"
  },
  "language_info": {
   "codemirror_mode": {
    "name": "ipython",
    "version": 3
   },
   "file_extension": ".py",
   "mimetype": "text/x-python",
   "name": "python",
   "nbconvert_exporter": "python",
   "pygments_lexer": "ipython3",
   "version": "3.9.13"
  }
 },
 "nbformat": 4,
 "nbformat_minor": 2
}
